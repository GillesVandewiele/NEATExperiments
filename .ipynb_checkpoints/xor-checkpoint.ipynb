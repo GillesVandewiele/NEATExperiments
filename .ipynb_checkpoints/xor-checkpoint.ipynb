{
 "cells": [
  {
   "cell_type": "code",
   "execution_count": 1,
   "metadata": {},
   "outputs": [],
   "source": [
    "%matplotlib inline\n",
    "import matplotlib.pyplot as plt\n",
    "import numpy as np\n",
    "from nn import Network, Neuron, Connection\n",
    "from copy import deepcopy"
   ]
  },
  {
   "cell_type": "code",
   "execution_count": 2,
   "metadata": {},
   "outputs": [],
   "source": [
    "x = [[0., 0.], [0., 1.], [1., 0.], [1., 1.]]\n",
    "y = [   0.,       1.,       1.,       0.]\n",
    "# TODO: we can generate more data (4 quadrants...)"
   ]
  },
  {
   "cell_type": "code",
   "execution_count": 3,
   "metadata": {},
   "outputs": [],
   "source": [
    "def fitness(network):\n",
    "    \"\"\"Propagate our feature vectors through the network, get the prediction and\n",
    "    measure the MSE\"\"\"\n",
    "    return sum([(network.forward_pass(feature_vector)[0] - label) ** 2 for feature_vector, label in zip(x, y)])\n",
    "\n",
    "def connection_weight_mutate(network, sigma=0.1):\n",
    "    \"\"\"Take a random connection from the network and add noise to the weight\"\"\"\n",
    "    rand_conn = np.random.choice(network.connections)\n",
    "    rand_conn.weight += np.random.normal(0, sigma)\n",
    "    \n",
    "def introduce_connection(network, sigma=0.5):\n",
    "    \"\"\"Take two random neurons and introduce a connection with random weight\"\"\"\n",
    "    rand_node1 = np.random.choice(list(set(network.neurons) - set(network.outputs)))\n",
    "    rand_node2 = np.random.choice(list(set(network.neurons) - set(network.inputs)))\n",
    "    if network.adjacency[rand_node1][rand_node2] is None:\n",
    "        network.add_connection(Connection(rand_node1, rand_node2, np.random.normal(0, sigma)))\n",
    "    else:\n",
    "        network.adjacency[rand_node1][rand_node2].enabled = True\n",
    "    \n",
    "    # TODO: check if we do not create a cycle!!!\n",
    "\n",
    "def introduce_node(network, sigma=1):\n",
    "    \"\"\"Take a random connection from the network (A -> B) and introduce a new node\n",
    "    C with connections: A -> C -> B\"\"\"\n",
    "    # Take a random connection and disable it, we are introducing two new ones\n",
    "    rand_conn = np.random.choice(network.connections)\n",
    "    rand_conn.enabled = False\n",
    "    \n",
    "    # Create a new neuron\n",
    "    new_neuron = Neuron(len(network.neurons) + 1)\n",
    "    network.add_neuron(new_neuron)\n",
    "    \n",
    "    # Create two new connections\n",
    "    new_conn1 = Connection(rand_conn.neuron_from, new_neuron, 1)\n",
    "    # Take the weight of the disabled connection\n",
    "    new_conn2 = Connection(new_neuron, rand_conn.neuron_to, rand_conn.weight)\n",
    "    network.add_connection(new_conn1)\n",
    "    network.add_connection(new_conn2)\n",
    "    \n",
    "def flip_connection(network):\n",
    "    \"\"\"Take a random connection and flip the enabled state\"\"\"\n",
    "    rand_conn = np.random.choice(network.connections)\n",
    "    if rand_conn.enabled:\n",
    "        rand_conn.enabled = False\n",
    "    else:\n",
    "        if not network.check_cycle(rand_conn):\n",
    "            rand_conn.enabled = True\n",
    "            \n",
    "    rand_conn.enabled = not rand_conn.enabled\n",
    "    \n",
    "def change_activation(network):\n",
    "    \"\"\"Take a random neuron and change its activation function\"\"\"\n",
    "    rand_node = np.random.choice(network.neurons)\n",
    "    rand_act_function = np.random.choice(list(Neuron.activation_functions.keys()))\n",
    "    rand_node.activation_function = Neuron.activation_functions[rand_act_function]\n",
    "    \n",
    "def cross_over(network1, network2):\n",
    "    pass"
   ]
  },
  {
   "cell_type": "code",
   "execution_count": 10,
   "metadata": {},
   "outputs": [
    {
     "name": "stdout",
     "output_type": "stream",
     "text": [
      "[1, 2, 6]\n",
      "[1, 2]\n",
      "[3, 4]\n",
      "[3]\n",
      "1\n",
      "0\n"
     ]
    }
   ],
   "source": [
    "# Create two networks and test if deep copy is working\n",
    "inputs = [Neuron(1), Neuron(2)]\n",
    "outputs = [Neuron(3)]\n",
    "connections = []\n",
    "\n",
    "network1 = Network(inputs, outputs, connections)\n",
    "network2 = deepcopy(network1)\n",
    "\n",
    "network1.inputs.append(Neuron(6))\n",
    "print([x.name for x in network1.inputs])\n",
    "print([x.name for x in network2.inputs])\n",
    "\n",
    "network1.outputs.append(Neuron(4))\n",
    "print([x.name for x in network1.outputs])\n",
    "print([x.name for x in network2.outputs])\n",
    "\n",
    "network1.connections.append(Connection(Neuron(6), Neuron(4), 1))\n",
    "print(len(network1.connections))\n",
    "print(len(network2.connections))\n",
    "\n",
    "# Restore our networks again\n",
    "inputs = [Neuron(1), Neuron(2)]\n",
    "outputs = [Neuron(3)]\n",
    "connections = []\n",
    "\n",
    "network1 = Network(inputs, outputs, connections)\n",
    "network2 = deepcopy(network1)"
   ]
  },
  {
   "cell_type": "code",
   "execution_count": 11,
   "metadata": {},
   "outputs": [
    {
     "ename": "ValueError",
     "evalue": "a must be non-empty",
     "output_type": "error",
     "traceback": [
      "\u001b[0;31m---------------------------------------------------------------------------\u001b[0m",
      "\u001b[0;31mValueError\u001b[0m                                Traceback (most recent call last)",
      "\u001b[0;32m<ipython-input-11-4d6a3abe8ba8>\u001b[0m in \u001b[0;36m<module>\u001b[0;34m()\u001b[0m\n\u001b[1;32m      1\u001b[0m \u001b[0;31m# Introduce some new random nodes in both networks\u001b[0m\u001b[0;34m\u001b[0m\u001b[0;34m\u001b[0m\u001b[0m\n\u001b[0;32m----> 2\u001b[0;31m \u001b[0mintroduce_node\u001b[0m\u001b[0;34m(\u001b[0m\u001b[0mnetwork1\u001b[0m\u001b[0;34m)\u001b[0m\u001b[0;34m\u001b[0m\u001b[0m\n\u001b[0m\u001b[1;32m      3\u001b[0m \u001b[0mintroduce_node\u001b[0m\u001b[0;34m(\u001b[0m\u001b[0mnetwork2\u001b[0m\u001b[0;34m)\u001b[0m\u001b[0;34m\u001b[0m\u001b[0m\n\u001b[1;32m      4\u001b[0m \u001b[0mintroduce_node\u001b[0m\u001b[0;34m(\u001b[0m\u001b[0mnetwork2\u001b[0m\u001b[0;34m)\u001b[0m\u001b[0;34m\u001b[0m\u001b[0m\n\u001b[1;32m      5\u001b[0m \u001b[0;34m\u001b[0m\u001b[0m\n",
      "\u001b[0;32m<ipython-input-3-3ceafb9cffdc>\u001b[0m in \u001b[0;36mintroduce_node\u001b[0;34m(network, sigma)\u001b[0m\n\u001b[1;32m     24\u001b[0m     C with connections: A -> C -> B\"\"\"\n\u001b[1;32m     25\u001b[0m     \u001b[0;31m# Take a random connection and disable it, we are introducing two new ones\u001b[0m\u001b[0;34m\u001b[0m\u001b[0;34m\u001b[0m\u001b[0m\n\u001b[0;32m---> 26\u001b[0;31m     \u001b[0mrand_conn\u001b[0m \u001b[0;34m=\u001b[0m \u001b[0mnp\u001b[0m\u001b[0;34m.\u001b[0m\u001b[0mrandom\u001b[0m\u001b[0;34m.\u001b[0m\u001b[0mchoice\u001b[0m\u001b[0;34m(\u001b[0m\u001b[0mnetwork\u001b[0m\u001b[0;34m.\u001b[0m\u001b[0mconnections\u001b[0m\u001b[0;34m)\u001b[0m\u001b[0;34m\u001b[0m\u001b[0m\n\u001b[0m\u001b[1;32m     27\u001b[0m     \u001b[0mrand_conn\u001b[0m\u001b[0;34m.\u001b[0m\u001b[0menabled\u001b[0m \u001b[0;34m=\u001b[0m \u001b[0;32mFalse\u001b[0m\u001b[0;34m\u001b[0m\u001b[0m\n\u001b[1;32m     28\u001b[0m \u001b[0;34m\u001b[0m\u001b[0m\n",
      "\u001b[0;32mmtrand.pyx\u001b[0m in \u001b[0;36mmtrand.RandomState.choice\u001b[0;34m()\u001b[0m\n",
      "\u001b[0;31mValueError\u001b[0m: a must be non-empty"
     ]
    }
   ],
   "source": [
    "introduce_connection(network1)\n",
    "introduce_connection(network2)\n",
    "introduce_connection(network2)\n",
    "\n",
    "introduce_node(network1)\n",
    "introduce_node(network2)\n",
    "introduce_node(network2)\n",
    "\n",
    "introduce_connection(network1)\n",
    "introduce_connection(network1)\n",
    "introduce_connection(network2)\n",
    "introduce_connection(network2)\n",
    "introduce_connection(network2)\n",
    "introduce_connection(network2)\n",
    "\n",
    "flip_connection(network2)\n",
    "change_activation(network2)\n",
    "change_activation(network2)\n",
    "change_activation(network2)\n",
    "\n",
    "print(fitness(network1))\n",
    "print(fitness(network2))\n",
    "\n",
    "network1.visualize()\n",
    "network2.visualize()\n",
    "\n",
    "network1.genome_str()\n",
    "network2.genome_str()"
   ]
  },
  {
   "cell_type": "code",
   "execution_count": null,
   "metadata": {},
   "outputs": [],
   "source": [
    "# Introduce a new node\n",
    "introduce_node(empty_network)\n",
    "print(fitness(empty_network))\n",
    "\n",
    "flip_connection(empty_network)\n",
    "print(fitness(empty_network))\n",
    "\n",
    "change_activation(empty_network)\n",
    "print(fitness(empty_network))\n",
    "change_activation(empty_network)\n",
    "print(fitness(empty_network))\n",
    "change_activation(empty_network)\n",
    "print(fitness(empty_network))\n",
    "change_activation(empty_network)\n",
    "print(fitness(empty_network))\n",
    "empty_network.visualize()"
   ]
  },
  {
   "cell_type": "code",
   "execution_count": null,
   "metadata": {},
   "outputs": [],
   "source": [
    "empty_network.genome_str()"
   ]
  },
  {
   "cell_type": "code",
   "execution_count": null,
   "metadata": {},
   "outputs": [],
   "source": []
  }
 ],
 "metadata": {
  "kernelspec": {
   "display_name": "Python 3",
   "language": "python",
   "name": "python3"
  },
  "language_info": {
   "codemirror_mode": {
    "name": "ipython",
    "version": 3
   },
   "file_extension": ".py",
   "mimetype": "text/x-python",
   "name": "python",
   "nbconvert_exporter": "python",
   "pygments_lexer": "ipython3",
   "version": "3.5.2"
  }
 },
 "nbformat": 4,
 "nbformat_minor": 2
}
